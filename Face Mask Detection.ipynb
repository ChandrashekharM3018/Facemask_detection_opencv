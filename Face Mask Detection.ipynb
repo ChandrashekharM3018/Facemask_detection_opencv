{
 "cells": [
  {
   "cell_type": "code",
   "execution_count": 1,
   "metadata": {},
   "outputs": [
    {
     "name": "stdout",
     "output_type": "stream",
     "text": [
      "{'with mask': 0, 'without mask': 1}\n",
      "['with mask', 'without mask']\n",
      "[0, 1]\n"
     ]
    }
   ],
   "source": [
    "import cv2\n",
    "import os\n",
    "\n",
    "data_path = \"C:/Users/CHANDRU/Desktop/Computer vision/dataset\"\n",
    "categories = os.listdir(data_path)\n",
    "labels = [i for i in range(len(categories))]\n",
    "\n",
    "label_dict = dict(zip(categories,labels))\n",
    "\n",
    "print(label_dict)\n",
    "print(categories)\n",
    "print(labels)"
   ]
  },
  {
   "cell_type": "code",
   "execution_count": 2,
   "metadata": {},
   "outputs": [],
   "source": [
    "img_size=100\n",
    "data=[]\n",
    "target=[]\n",
    "\n",
    "\n",
    "for category in categories:\n",
    "    folder_path=os.path.join(data_path,category)\n",
    "    img_names=os.listdir(folder_path)\n",
    "        \n",
    "    for img_name in img_names:\n",
    "        img_path=os.path.join(folder_path,img_name)\n",
    "        img=cv2.imread(img_path)\n",
    "\n",
    "        try:\n",
    "            gray=cv2.cvtColor(img,cv2.COLOR_BGR2GRAY)           \n",
    "            resized=cv2.resize(gray,(img_size,img_size))\n",
    "            data.append(resized)\n",
    "            target.append(label_dict[category])\n",
    "\n",
    "        except Exception as e:\n",
    "            print('Exception:',e)\n"
   ]
  },
  {
   "cell_type": "code",
   "execution_count": 3,
   "metadata": {},
   "outputs": [
    {
     "name": "stderr",
     "output_type": "stream",
     "text": [
      "Using TensorFlow backend.\n"
     ]
    }
   ],
   "source": [
    "import numpy as np\n",
    "\n",
    "data=np.array(data)/255.0\n",
    "data=np.reshape(data,(data.shape[0],img_size,img_size,1))\n",
    "target=np.array(target)\n",
    "\n",
    "from keras.utils import np_utils\n",
    "\n",
    "new_target=np_utils.to_categorical(target)"
   ]
  },
  {
   "cell_type": "code",
   "execution_count": 4,
   "metadata": {},
   "outputs": [],
   "source": [
    "np.save('data',data)\n",
    "np.save('target',new_target)"
   ]
  },
  {
   "cell_type": "code",
   "execution_count": 5,
   "metadata": {},
   "outputs": [],
   "source": [
    "import numpy as np\n",
    "\n",
    "data=np.load('data.npy')\n",
    "target=np.load('target.npy')"
   ]
  },
  {
   "cell_type": "code",
   "execution_count": 6,
   "metadata": {},
   "outputs": [],
   "source": [
    "\n",
    "from keras.models import Sequential\n",
    "from keras.layers import Dense,Activation,Flatten,Dropout\n",
    "from keras.layers import Conv2D,MaxPooling2D\n",
    "from keras.callbacks import ModelCheckpoint\n",
    "\n",
    "model=Sequential()\n",
    "\n",
    "model.add(Conv2D(200,(3,3),input_shape=data.shape[1:]))\n",
    "model.add(Activation('relu'))\n",
    "model.add(MaxPooling2D(pool_size=(2,2)))\n",
    "#The first CNN layer followed by Relu and MaxPooling layers\n",
    "\n",
    "model.add(Conv2D(100,(3,3)))\n",
    "model.add(Activation('relu'))\n",
    "model.add(MaxPooling2D(pool_size=(2,2)))\n",
    "\n",
    "model.add(Flatten())\n",
    "model.add(Dropout(0.5))\n",
    "model.add(Dense(50,activation='relu'))\n",
    "#Dense layer of 64 neurons\n",
    "model.add(Dense(2,activation='softmax'))\n",
    "\n",
    "model.compile(loss='categorical_crossentropy',optimizer='adam',metrics=['accuracy'])"
   ]
  },
  {
   "cell_type": "code",
   "execution_count": 7,
   "metadata": {},
   "outputs": [],
   "source": [
    "from sklearn.model_selection import train_test_split\n",
    "train_data,test_data,train_target,test_target=train_test_split(data,target,test_size=0.1)"
   ]
  },
  {
   "cell_type": "code",
   "execution_count": 8,
   "metadata": {},
   "outputs": [
    {
     "name": "stdout",
     "output_type": "stream",
     "text": [
      "Train on 990 samples, validate on 248 samples\n",
      "Epoch 1/20\n",
      "990/990 [==============================] - 53s 54ms/step - loss: 0.7175 - accuracy: 0.5626 - val_loss: 0.6118 - val_accuracy: 0.6290\n",
      "Epoch 2/20\n",
      "990/990 [==============================] - 53s 53ms/step - loss: 0.6132 - accuracy: 0.6394 - val_loss: 0.4739 - val_accuracy: 0.8024\n",
      "Epoch 3/20\n",
      "990/990 [==============================] - 51s 52ms/step - loss: 0.4534 - accuracy: 0.7980 - val_loss: 0.3051 - val_accuracy: 0.8871\n",
      "Epoch 4/20\n",
      "990/990 [==============================] - 53s 53ms/step - loss: 0.3447 - accuracy: 0.8667 - val_loss: 0.2924 - val_accuracy: 0.8790\n",
      "Epoch 5/20\n",
      "990/990 [==============================] - 50s 51ms/step - loss: 0.2345 - accuracy: 0.9212 - val_loss: 0.1962 - val_accuracy: 0.9395\n",
      "Epoch 6/20\n",
      "990/990 [==============================] - 52s 52ms/step - loss: 0.2352 - accuracy: 0.9101 - val_loss: 0.1613 - val_accuracy: 0.9435\n",
      "Epoch 7/20\n",
      "990/990 [==============================] - 53s 54ms/step - loss: 0.1765 - accuracy: 0.9404 - val_loss: 0.3110 - val_accuracy: 0.8790\n",
      "Epoch 8/20\n",
      "990/990 [==============================] - 53s 53ms/step - loss: 0.2066 - accuracy: 0.9273 - val_loss: 0.1814 - val_accuracy: 0.9395\n",
      "Epoch 9/20\n",
      "990/990 [==============================] - 52s 52ms/step - loss: 0.1342 - accuracy: 0.9566 - val_loss: 0.1216 - val_accuracy: 0.9718\n",
      "Epoch 10/20\n",
      "990/990 [==============================] - 54s 55ms/step - loss: 0.1035 - accuracy: 0.9626 - val_loss: 0.1372 - val_accuracy: 0.9637\n",
      "Epoch 11/20\n",
      "990/990 [==============================] - 51s 51ms/step - loss: 0.0923 - accuracy: 0.9697 - val_loss: 0.1164 - val_accuracy: 0.9718\n",
      "Epoch 12/20\n",
      "990/990 [==============================] - 51s 52ms/step - loss: 0.0730 - accuracy: 0.9788 - val_loss: 0.1533 - val_accuracy: 0.9597\n",
      "Epoch 13/20\n",
      "990/990 [==============================] - 52s 53ms/step - loss: 0.0827 - accuracy: 0.9667 - val_loss: 0.1184 - val_accuracy: 0.9718\n",
      "Epoch 14/20\n",
      "990/990 [==============================] - 51s 52ms/step - loss: 0.0608 - accuracy: 0.9798 - val_loss: 0.1535 - val_accuracy: 0.9637\n",
      "Epoch 15/20\n",
      "990/990 [==============================] - 52s 52ms/step - loss: 0.0634 - accuracy: 0.9798 - val_loss: 0.1188 - val_accuracy: 0.9677\n",
      "Epoch 16/20\n",
      "990/990 [==============================] - 53s 53ms/step - loss: 0.0545 - accuracy: 0.9808 - val_loss: 0.1079 - val_accuracy: 0.9718\n",
      "Epoch 17/20\n",
      "990/990 [==============================] - 51s 51ms/step - loss: 0.0403 - accuracy: 0.9869 - val_loss: 0.1283 - val_accuracy: 0.9677\n",
      "Epoch 18/20\n",
      "990/990 [==============================] - 52s 52ms/step - loss: 0.0375 - accuracy: 0.9859 - val_loss: 0.1552 - val_accuracy: 0.9677\n",
      "Epoch 19/20\n",
      "990/990 [==============================] - 51s 52ms/step - loss: 0.0352 - accuracy: 0.9879 - val_loss: 0.1207 - val_accuracy: 0.9758\n",
      "Epoch 20/20\n",
      "990/990 [==============================] - 51s 51ms/step - loss: 0.0403 - accuracy: 0.9869 - val_loss: 0.1433 - val_accuracy: 0.9677\n"
     ]
    }
   ],
   "source": [
    "checkpoint = ModelCheckpoint('model-{epoch:03d}.model',monitor='val_loss',verbose=0,save_best_only=True,mode='auto')\n",
    "history=model.fit(train_data,train_target,epochs=20,callbacks=[checkpoint],validation_split=0.2)"
   ]
  },
  {
   "cell_type": "code",
   "execution_count": 9,
   "metadata": {},
   "outputs": [
    {
     "data": {
      "image/png": "[encoded data removed]",
      "text/plain": [
       "<Figure size 432x288 with 1 Axes>"
      ]
     },
     "metadata": {
      "needs_background": "light"
     },
     "output_type": "display_data"
    }
   ],
   "source": [
    "from matplotlib import pyplot as plt\n",
    "\n",
    "plt.plot(history.history['loss'],'r',label='training loss')\n",
    "plt.plot(history.history['val_loss'],label='validation loss')\n",
    "plt.xlabel('#epochs')\n",
    "plt.ylabel('loss')\n",
    "plt.legend()\n",
    "plt.show()"
   ]
  },
  {
   "cell_type": "code",
   "execution_count": 10,
   "metadata": {},
   "outputs": [
    {
     "name": "stdout",
     "output_type": "stream",
     "text": [
      "138/138 [==============================] - 2s 15ms/step\n",
      "[0.05851276197295258, 0.97826087474823]\n"
     ]
    }
   ],
   "source": [
    "print(model.evaluate(test_data,test_target))"
   ]
  },
  {
   "cell_type": "code",
   "execution_count": 11,
   "metadata": {},
   "outputs": [],
   "source": [
    "from keras.models import load_model\n",
    "import cv2\n",
    "import numpy as np"
   ]
  },
  {
   "cell_type": "code",
   "execution_count": 41,
   "metadata": {},
   "outputs": [],
   "source": [
    "model = load_model('C:/Users/CHANDRU/Desktop/Computer vision/model-017.model')\n",
    "\n",
    "face_clsfr=cv2.CascadeClassifier('C:/Users/CHANDRU/Desktop/Computer vision/haarcascade_frontalface_default.xml')\n",
    "\n",
    "source=cv2.VideoCapture(0)\n",
    "\n",
    "labels_dict={0:'MASK',1:'NO MASK'}\n",
    "color_dict={0:(0,255,0),1:(0,0,255)}"
   ]
  },
  {
   "cell_type": "code",
   "execution_count": 42,
   "metadata": {},
   "outputs": [],
   "source": [
    "while(True):\n",
    "\n",
    "    _, img=source.read()\n",
    "    gray = cv2.cvtColor(img , cv2.COLOR_BGR2GRAY)\n",
    "    faces = face_clsfr.detectMultiScale(gray,1.3,5)  \n",
    "\n",
    "    for (x,y,w,h) in faces:\n",
    "    \n",
    "        face_img=gray[y:y+w,x:x+w]\n",
    "        resized=cv2.resize(face_img,(100,100))\n",
    "        normalized=resized/255.0\n",
    "        reshaped=np.reshape(normalized,(1,100,100,1))\n",
    "        result=model.predict(reshaped)\n",
    "\n",
    "        label=np.argmax(result)\n",
    "      \n",
    "        cv2.rectangle(img,(x,y),(x+w,y+h),color_dict[label],2)\n",
    "        cv2.rectangle(img,(x,y-40),(x+w,y),color_dict[label],-1)\n",
    "        cv2.putText(img, labels_dict[label], (x, y-10),cv2.FONT_HERSHEY_SIMPLEX,0.8,(255,255,255),2)\n",
    "        \n",
    "        \n",
    "    cv2.imshow('LIVE',img)\n",
    "    if cv2.waitKey(1) & 0XFF == ord('q'):\n",
    "        break\n",
    "        \n",
    "cv2.destroyAllWindows()\n",
    "source.release()"
   ]
  },
  {
   "cell_type": "code",
   "execution_count": null,
   "metadata": {},
   "outputs": [],
   "source": []
  }
 ],
 "metadata": {
  "kernelspec": {
   "display_name": "Python 3",
   "language": "python",
   "name": "python3"
  },
  "language_info": {
   "codemirror_mode": {
    "name": "ipython",
    "version": 3
   },
   "file_extension": ".py",
   "mimetype": "text/x-python",
   "name": "python",
   "nbconvert_exporter": "python",
   "pygments_lexer": "ipython3",
   "version": "3.6.10"
  }
 },
 "nbformat": 4,
 "nbformat_minor": 4
}
